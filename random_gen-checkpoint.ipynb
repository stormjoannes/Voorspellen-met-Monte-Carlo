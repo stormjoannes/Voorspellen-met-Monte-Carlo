{
 "cells": [
  {
   "cell_type": "code",
   "execution_count": 1,
   "metadata": {},
   "outputs": [],
   "source": [
    "import math\n",
    "import numpy as np\n",
    "from astropy.table import Table"
   ]
  },
  {
   "cell_type": "code",
   "execution_count": 2,
   "metadata": {},
   "outputs": [],
   "source": [
    "clubs = [\"ajax\", \"feyenoord\", \"psv\", \"FC-utrecht\", \"willem-II\"]\n",
    "matches = [[[],[65,17,18],[54,21,25],[74,14,12],[78,13,9]],\n",
    "          [[30,21,49],[],[37,24,39],[51,22,27],[60,21,19]],\n",
    "          [[39,22,39],[54,22,24],[],[62,20,18],[62,22,16]],\n",
    "          [[25,14,61],[37,23,40],[29,24,47],[],[52,23,25]],\n",
    "          [[17,18,65],[20,26,54],[23,24,53],[37,25,38],[]]]\n",
    "\n",
    "aantal_clubs = len(matches)\n",
    "aantal_matches_per_club = len(matches[0])"
   ]
  },
  {
   "cell_type": "code",
   "execution_count": 3,
   "metadata": {},
   "outputs": [],
   "source": [
    "def middle_square_meth(seed, length, length_needed):\n",
    "    \"\"\"\n",
    "    Maken van random gen\n",
    "    \"\"\"\n",
    "    pick = len(seed)\n",
    "    #list met RNG's naar lengte\n",
    "    RNG = []\n",
    "    for i in range(length):\n",
    "        seed = str(int(seed) ** 2)\n",
    "        len_new = len(seed) \n",
    "        #berekenen hoeveel getallen links en rechts weg moeten\n",
    "        cut = len_new - pick\n",
    "        if cut % 2 == 0:\n",
    "            #bereken hoeveel weg aan iedere kant\n",
    "            cut /= 2\n",
    "            seed = seed[int(cut) : int(len(seed) - cut)]\n",
    "        else:\n",
    "            cut /= 2\n",
    "            #als er een oneven aantal getallen weg moeten, haal je er links 1 meer weg dan rechts\n",
    "            seed = seed[int(math.ceil(cut)) : int(len(seed) - (math.floor(cut)))]\n",
    "\n",
    "        RNG.append(int(seed[:length_needed]))\n",
    "    return RNG"
   ]
  },
  {
   "cell_type": "code",
   "execution_count": 4,
   "metadata": {},
   "outputs": [],
   "source": [
    "def make_leaderboard(stand, leaderboard):\n",
    "    \"\"\"\n",
    "    Maken van matrix met hoevaak iedere club waar is geëindigd\n",
    "    \"\"\"\n",
    "    previous = 0 #previous score\n",
    "    last_set_i = 0 #nodig voor als er een gedeelde plek is, de club erna moet niet 2 plekken lager op leaderboard maar 1\n",
    "    \n",
    "    for i in range(len(stand)):\n",
    "        #club met de hoogste stand van de dictionary\n",
    "        maxStandClub = max(stand, key=stand.get)\n",
    "        if stand[maxStandClub] > previous:\n",
    "            #+1 bij welke club en op welke plek die is geindigd\n",
    "            leaderboard[clubs.index(maxStandClub)][i] += 1\n",
    "            last_set_i = i\n",
    "            previous = stand[maxStandClub]\n",
    "            \n",
    "        elif stand[maxStandClub] == previous:\n",
    "            leaderboard[clubs.index(maxStandClub)][last_set_i] += 1\n",
    "        \n",
    "        else:\n",
    "            last_set_i += 1\n",
    "            leaderboard[clubs.index(maxStandClub)][last_set_i] += 1\n",
    "            previous = stand[maxStandClub]\n",
    "            \n",
    "        #verwijder de club van huidige dictionary\n",
    "        del stand[maxStandClub]\n",
    "    return leaderboard    "
   ]
  },
  {
   "cell_type": "code",
   "execution_count": 5,
   "metadata": {
    "scrolled": false
   },
   "outputs": [],
   "source": [
    "def bereken_competitie(RandomNumbers, aantal_competities, aantal_matches_per_club):\n",
    "    #maak leaderboard matrix\n",
    "    leaderboard = np.zeros(25).reshape(5, 5)\n",
    "    #teller om te zoeken in RNG list\n",
    "    int_for_list = 0\n",
    "    \n",
    "    for y in range(aantal_competities):\n",
    "        #dictionary van standen die iedere competitie gereset wordt\n",
    "        standen = {\"ajax\": 0, \"feyenoord\": 0, \"psv\": 0, \"FC-utrecht\": 0, \"willem-II\": 0}\n",
    "        for i in range(aantal_clubs):\n",
    "            for x in range(aantal_matches_per_club):\n",
    "                int_for_list += 1\n",
    "                #als lege lijst, ga naar volgende wedstrijd. Lege lijst komt voor bij wedstrijden tegen zichzelf\n",
    "                if len(matches[i][x]) == 0:\n",
    "                    continue\n",
    "                else:\n",
    "                    #als RNG kleiner dan kans dat de thuis club wint\n",
    "                    if RandomNumbers[int_for_list] < matches[i][x][0]:\n",
    "                        standen[clubs[i]] += 3\n",
    "                        \n",
    "                    #als RNG groter dan kans dat thuis club wint maar kleiner dan dat plus de kans dat ze gelijk spelen.\n",
    "                    elif RandomNumbers[int_for_list] > matches[i][x][0] and RandomNumbers[int_for_list] < matches[i][x][0] + matches[i][x][1]:\n",
    "                        standen[clubs[i]] += 1\n",
    "                        standen[clubs[x]] += 1\n",
    "                        \n",
    "                    #als RNG groter dan eerste 2 kansen maar kleiner of gelijk aan het geheel\n",
    "                    elif RandomNumbers[int_for_list] > matches[i][x][1] + matches[i][x][1] and RandomNumbers[int_for_list] <= 100:\n",
    "                        standen[clubs[x]] += 3\n",
    "        #vul leaderbord in met deze competitie\n",
    "        leaderboard = make_leaderboard(standen, leaderboard)\n",
    "    return leaderboard"
   ]
  },
  {
   "cell_type": "code",
   "execution_count": 6,
   "metadata": {},
   "outputs": [],
   "source": [
    "def create_Table(kansen):\n",
    "    \"\"\"\n",
    "    Maken van tabel\n",
    "    \"\"\"\n",
    "    #y-as namen\n",
    "    a = ['1st pos', '2nd pos', '3rd pos', '4th pos', '5th pos']\n",
    "    #club 1\n",
    "    b = kansen[0]\n",
    "    #club 2\n",
    "    c = kansen[1]\n",
    "    #club 3 etc...\n",
    "    d = kansen[2]\n",
    "    e = kansen[3]\n",
    "    f = kansen[4]\n",
    "    #x-as namen plus maken van table\n",
    "    t = Table([a, b, c, d, e, f], names=('places/club', 'Ajax', 'Feyenoord', 'PSV', 'FC Utrecht', 'Willem II'))\n",
    "    return t"
   ]
  },
  {
   "cell_type": "code",
   "execution_count": 7,
   "metadata": {},
   "outputs": [],
   "source": [
    "def maak_kansen(uitslag):\n",
    "    \"\"\"\n",
    "    Maak matrix waar de kansen in staat voor iedere club om zoveelste te worden\n",
    "    \"\"\"\n",
    "    #maak matrix\n",
    "    kansen = np.zeros(25).reshape(5, 5)\n",
    "    for i in range(len(uitslag)):\n",
    "        #pak totaal van kolom\n",
    "        totaal = sum(uitslag[:, i])\n",
    "        for x in range(len(uitslag)):\n",
    "            #bereken de kans en rond af op 2 decimalen\n",
    "            kansen[i][x] = round(uitslag[i][x] / totaal, 2)\n",
    "    return kansen"
   ]
  },
  {
   "cell_type": "code",
   "execution_count": 8,
   "metadata": {},
   "outputs": [
    {
     "data": {
      "text/html": [
       "<i>Table length=5</i>\n",
       "<table id=\"table1771195630792\" class=\"table-striped table-bordered table-condensed\">\n",
       "<thead><tr><th>places/club</th><th>Ajax</th><th>Feyenoord</th><th>PSV</th><th>FC Utrecht</th><th>Willem II</th></tr></thead>\n",
       "<thead><tr><th>str7</th><th>float64</th><th>float64</th><th>float64</th><th>float64</th><th>float64</th></tr></thead>\n",
       "<tr><td>1st pos</td><td>0.48</td><td>0.14</td><td>0.29</td><td>0.08</td><td>0.04</td></tr>\n",
       "<tr><td>2nd pos</td><td>0.3</td><td>0.22</td><td>0.3</td><td>0.14</td><td>0.11</td></tr>\n",
       "<tr><td>3rd pos</td><td>0.08</td><td>0.27</td><td>0.2</td><td>0.31</td><td>0.32</td></tr>\n",
       "<tr><td>4th pos</td><td>0.02</td><td>0.18</td><td>0.08</td><td>0.29</td><td>0.81</td></tr>\n",
       "<tr><td>5th pos</td><td>0.0</td><td>0.06</td><td>0.01</td><td>0.12</td><td>0.6</td></tr>\n",
       "</table>"
      ],
      "text/plain": [
       "<Table length=5>\n",
       "places/club   Ajax  Feyenoord   PSV   FC Utrecht Willem II\n",
       "    str7    float64  float64  float64  float64    float64 \n",
       "----------- ------- --------- ------- ---------- ---------\n",
       "    1st pos    0.48      0.14    0.29       0.08      0.04\n",
       "    2nd pos     0.3      0.22     0.3       0.14      0.11\n",
       "    3rd pos    0.08      0.27     0.2       0.31      0.32\n",
       "    4th pos    0.02      0.18    0.08       0.29      0.81\n",
       "    5th pos     0.0      0.06    0.01       0.12       0.6"
      ]
     },
     "execution_count": 8,
     "metadata": {},
     "output_type": "execute_result"
    }
   ],
   "source": [
    "seed1 = 123456789\n",
    "aantal_competities = 100\n",
    "\n",
    "RandomNumbers = middle_square_meth(str(seed1), aantal_clubs * aantal_matches_per_club * aantal_competities, 2)\n",
    "\n",
    "uitslag = bereken_competitie(RandomNumbers, aantal_competities, aantal_matches_per_club)\n",
    "\n",
    "kansen = maak_kansen(uitslag)\n",
    "\n",
    "create_Table(kansen)"
   ]
  },
  {
   "cell_type": "code",
   "execution_count": null,
   "metadata": {},
   "outputs": [],
   "source": []
  }
 ],
 "metadata": {
  "kernelspec": {
   "display_name": "Python 3",
   "language": "python",
   "name": "python3"
  },
  "language_info": {
   "codemirror_mode": {
    "name": "ipython",
    "version": 3
   },
   "file_extension": ".py",
   "mimetype": "text/x-python",
   "name": "python",
   "nbconvert_exporter": "python",
   "pygments_lexer": "ipython3",
   "version": "3.7.6"
  }
 },
 "nbformat": 4,
 "nbformat_minor": 4
}
