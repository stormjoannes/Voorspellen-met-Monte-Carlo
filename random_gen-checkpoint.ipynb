{
 "cells": [
  {
   "cell_type": "code",
   "execution_count": 1,
   "metadata": {},
   "outputs": [],
   "source": [
    "import math\n",
    "import numpy as np\n",
    "\n",
    "from astropy.table import QTable, Table, Column\n",
    "from astropy import units as u"
   ]
  },
  {
   "cell_type": "code",
   "execution_count": 2,
   "metadata": {},
   "outputs": [],
   "source": [
    "clubs = [\"ajax\", \"feyenoord\", \"psv\", \"FC-utrecht\", \"willem-II\"]\n",
    "matches = [[[],[65,17,18],[54,21,25],[74,14,12],[78,13,9]],\n",
    "          [[30,21,49],[],[37,24,39],[51,22,27],[60,21,19]],\n",
    "          [[39,22,39],[54,22,24],[],[62,20,18],[62,22,16]],\n",
    "          [[25,14,61],[37,23,40],[29,24,47],[],[52,23,25]],\n",
    "          [[17,18,65],[20,26,54],[23,24,53],[37,25,38],[]]]\n",
    "\n",
    "aantal_clubs = len(matches)\n",
    "aantal_matches_per_club = len(matches[0])"
   ]
  },
  {
   "cell_type": "code",
   "execution_count": 3,
   "metadata": {},
   "outputs": [],
   "source": [
    "def middle_square_meth(seed, length, length_needed):\n",
    "    pick = len(str(seed))\n",
    "    RNG = []\n",
    "    for i in range(length):\n",
    "        seed = int(seed)\n",
    "        seed**= 2\n",
    "        seed = str(seed)\n",
    "\n",
    "        len_new = len(seed) \n",
    "        cut = len_new - pick\n",
    "        if cut > 0:\n",
    "            if cut % 2 == 0:\n",
    "                cut /= 2\n",
    "                seed = seed[int(cut) : int(len(seed) - cut)]\n",
    "            else:\n",
    "                cut /= 2\n",
    "                seed = seed[int(math.ceil(cut)) : int(len(seed) - (math.floor(cut)))]\n",
    "        \n",
    "        RNG.append(int(seed[:length_needed]))\n",
    "    return RNG"
   ]
  },
  {
   "cell_type": "code",
   "execution_count": 4,
   "metadata": {},
   "outputs": [],
   "source": [
    "def make_leaderboard(stand, leaderboard):\n",
    "    previous = 0    \n",
    "    last_set_i = 0\n",
    "    \n",
    "    for i in range(len(stand)):\n",
    "        maxStandClub = max(stand, key=stand.get)\n",
    "        if stand[maxStandClub] > previous:\n",
    "            leaderboard[clubs.index(maxStandClub)][i] += 1\n",
    "            last_set_i = i\n",
    "            previous = stand[maxStandClub]\n",
    "            \n",
    "        elif stand[maxStandClub] == previous:\n",
    "            leaderboard[clubs.index(maxStandClub)][last_set_i] += 1\n",
    "        \n",
    "        else:\n",
    "            last_set_i += 1\n",
    "            leaderboard[clubs.index(maxStandClub)][last_set_i] += 1\n",
    "            previous = stand[maxStandClub]\n",
    "            \n",
    "        del stand[maxStandClub]\n",
    "    return leaderboard    "
   ]
  },
  {
   "cell_type": "code",
   "execution_count": 5,
   "metadata": {
    "scrolled": false
   },
   "outputs": [],
   "source": [
    "def bereken_competitie(RandomNumbers, aantal_competities, aantal_matches_per_club):\n",
    "    leaderboard = np.zeros(25).reshape(5, 5)\n",
    "    int_for_list = 0\n",
    "    \n",
    "    for y in range(aantal_competities):\n",
    "        standen = {\"ajax\": 0, \"feyenoord\": 0, \"psv\": 0, \"FC-utrecht\": 0, \"willem-II\": 0}\n",
    "        for i in range(aantal_clubs):\n",
    "            for x in range(aantal_matches_per_club):\n",
    "                int_for_list += 1\n",
    "                if len(matches[i][x]) == 0:\n",
    "                    continue\n",
    "                else:\n",
    "                    if RandomNumbers[int_for_list] < matches[i][x][0]:\n",
    "                        standen[clubs[i]] += 3\n",
    "\n",
    "                    elif RandomNumbers[int_for_list] > matches[i][x][0] and RandomNumbers[int_for_list] < matches[i][x][0] + matches[i][x][1]:\n",
    "                        standen[clubs[i]] += 1\n",
    "                        standen[clubs[x]] += 1\n",
    "\n",
    "                    elif RandomNumbers[int_for_list] > matches[i][x][1] + matches[i][x][1] and RandomNumbers[int_for_list] < 100:\n",
    "                        standen[clubs[x]] += 3\n",
    "        leaderboard = make_leaderboard(standen, leaderboard)\n",
    "    return leaderboard"
   ]
  },
  {
   "cell_type": "code",
   "execution_count": 6,
   "metadata": {},
   "outputs": [],
   "source": [
    "def maak_kansen(uitslag):\n",
    "    kansen = np.zeros(25).reshape(5, 5)\n",
    "    for i in range(len(uitslag)):\n",
    "        totaal = sum(uitslag[:, 0])\n",
    "        for x in range(len(uitslag)):\n",
    "            kansen[i][x] = round(uitslag[i][x] / totaal, 2)\n",
    "    return kansen"
   ]
  },
  {
   "cell_type": "code",
   "execution_count": 7,
   "metadata": {},
   "outputs": [],
   "source": [
    "seed1 = 123456789\n",
    "aantal_competities = 100\n",
    "\n",
    "RandomNumbers = middle_square_meth(seed1, aantal_clubs * aantal_matches_per_club * aantal_competities, 2)\n",
    "uitslag = bereken_competitie(RandomNumbers, aantal_competities, aantal_matches_per_club)\n",
    "kansen = maak_kansen(uitslag)"
   ]
  },
  {
   "cell_type": "code",
   "execution_count": 8,
   "metadata": {},
   "outputs": [
    {
     "data": {
      "text/html": [
       "<i>Table length=5</i>\n",
       "<table id=\"table1978094303112\" class=\"table-striped table-bordered table-condensed\">\n",
       "<thead><tr><th>places/club</th><th>Ajax</th><th>Feyenoord</th><th>PSV</th><th>FC Utrecht</th><th>Willem II</th></tr></thead>\n",
       "<thead><tr><th>str7</th><th>float64</th><th>float64</th><th>float64</th><th>float64</th><th>float64</th></tr></thead>\n",
       "<tr><td>1st pos</td><td>0.48</td><td>0.14</td><td>0.29</td><td>0.07</td><td>0.02</td></tr>\n",
       "<tr><td>2nd pos</td><td>0.3</td><td>0.22</td><td>0.3</td><td>0.13</td><td>0.05</td></tr>\n",
       "<tr><td>3rd pos</td><td>0.08</td><td>0.27</td><td>0.2</td><td>0.29</td><td>0.15</td></tr>\n",
       "<tr><td>4th pos</td><td>0.02</td><td>0.18</td><td>0.08</td><td>0.27</td><td>0.38</td></tr>\n",
       "<tr><td>5th pos</td><td>0.0</td><td>0.06</td><td>0.01</td><td>0.11</td><td>0.28</td></tr>\n",
       "</table>"
      ],
      "text/plain": [
       "<Table length=5>\n",
       "places/club   Ajax  Feyenoord   PSV   FC Utrecht Willem II\n",
       "    str7    float64  float64  float64  float64    float64 \n",
       "----------- ------- --------- ------- ---------- ---------\n",
       "    1st pos    0.48      0.14    0.29       0.07      0.02\n",
       "    2nd pos     0.3      0.22     0.3       0.13      0.05\n",
       "    3rd pos    0.08      0.27     0.2       0.29      0.15\n",
       "    4th pos    0.02      0.18    0.08       0.27      0.38\n",
       "    5th pos     0.0      0.06    0.01       0.11      0.28"
      ]
     },
     "execution_count": 8,
     "metadata": {},
     "output_type": "execute_result"
    }
   ],
   "source": [
    "a = ['1st pos', '2nd pos', '3rd pos', '4th pos', '5th pos']\n",
    "b = kansen[0]\n",
    "c = kansen[1]\n",
    "d = kansen[2]\n",
    "e = kansen[3]\n",
    "f = kansen[4]\n",
    "t = Table([a, b, c, d, e, f], names=('places/club', 'Ajax', 'Feyenoord', 'PSV', 'FC Utrecht', 'Willem II'))\n",
    "t"
   ]
  },
  {
   "cell_type": "code",
   "execution_count": null,
   "metadata": {},
   "outputs": [],
   "source": []
  }
 ],
 "metadata": {
  "kernelspec": {
   "display_name": "Python 3",
   "language": "python",
   "name": "python3"
  },
  "language_info": {
   "codemirror_mode": {
    "name": "ipython",
    "version": 3
   },
   "file_extension": ".py",
   "mimetype": "text/x-python",
   "name": "python",
   "nbconvert_exporter": "python",
   "pygments_lexer": "ipython3",
   "version": "3.7.6"
  }
 },
 "nbformat": 4,
 "nbformat_minor": 4
}
